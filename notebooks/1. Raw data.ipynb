{
 "cells": [
  {
   "cell_type": "markdown",
   "metadata": {},
   "source": [
    "# What do the data look like?\n",
    "\n",
    "Jupyter IPython notebooks, such as this one, allow you to run both Python code and, using 'magics' also shell commands. In this tutorial we'll use both, since we will be interfacing with a variety of software, as well as processing data.\n",
    "\n",
    "First, let's look around in the directory using standard Linux commands. We can execute a shell command by preceding it with an exclamation mark."
   ]
  },
  {
   "cell_type": "code",
   "execution_count": 1,
   "metadata": {
    "collapsed": false
   },
   "outputs": [
    {
     "name": "stdout",
     "output_type": "stream",
     "text": [
      "total 220240\r\n",
      "-rw-r--r--@ 1 sasha  staff    23M Jul 19 18:56 mutant1_OIST-2015-03-28.fq.gz\r\n",
      "-rw-r--r--@ 1 sasha  staff   277K Jul 19 16:10 mutant1_OIST-2015-03-28_fastqc.html\r\n",
      "-rw-r--r--@ 1 sasha  staff   307K Jul 19 16:10 mutant1_OIST-2015-03-28_fastqc.zip\r\n",
      "-rw-r--r--@ 1 sasha  staff    23M Jul 19 18:56 mutant2_OIST-2015-03-28.fq.gz\r\n",
      "-rw-r--r--@ 1 sasha  staff    18M Jul 19 18:56 mutant3_OIST-2015-03-28.fq.gz\r\n",
      "-rw-r--r--@ 1 sasha  staff    23M Jul 19 18:56 mutant4_OIST-2015-03-28.fq.gz\r\n",
      "-rw-r--r--@ 1 sasha  staff    20M Jul 19 18:56 reference_OIST-2015-03-28.fq.gz\r\n"
     ]
    }
   ],
   "source": [
    "!ls -lh ./reads"
   ]
  },
  {
   "cell_type": "markdown",
   "metadata": {},
   "source": [
    "We see that there are five files four of these are mutants, and and one reference original sample.\n",
    "We will take a look inside one of the files and look at the distribution of read statistics.\n",
    "\n",
    "The reads are in text files, which have been compressed using `gzip`, a common practice for storing raw data. You can look inside by decompressing a file, piping the output to a program called `head`, which will stop after a few lines. You don't want to print the contents of the entire file to screen, since it will likely crash IPython."
   ]
  },
  {
   "cell_type": "code",
   "execution_count": 2,
   "metadata": {
    "collapsed": false
   },
   "outputs": [
    {
     "name": "stdout",
     "output_type": "stream",
     "text": [
      "@M00923:134:000000000-A5ELA:1:2109:24002:5853\r\n",
      "ATGCCTATATTGGTTAAAGTATTTAGTGACCTAAGTCAATAAAATTTTAATTTACTCACGGCAGGTAACCAGTTCAGAAGCTGCTATCAGACACTCTTTTTTTAATCCACACAGAGACATATTGCCCGTTGCAGTCAGAATGAAAAGCTGA\r\n",
      "+\r\n",
      "CCCCCGGGGGGGGGGGGGGGGGGFGGGGGGGGGGGFGGGGGGGGGGGGGGGGGGGGGGGGGGGGGGGGGGGGGGGGGGFGGGGGGGGGGGGGGGGGGGGGGDGGGGGGGGGGGGGGGGGGCGGFGGGGGGGGGGGGGGGDFFGGGGGGGGF\r\n",
      "@M00923:134:000000000-A5ELA:1:2110:26800:16309\r\n",
      "CCTATATTGGTTAAAGTATTTAGTGACCTAAGTCAATAAAATTTTAATTTACTCACGGCAGGTAACCAGTTCAGAAGCTGCTATCAGACACTCTTTTTTTAATCCACACCGAGACATATTGCCCGTTGCAGTCAGAATGAAAAGCTGAATA\r\n",
      "+\r\n",
      "-A-<-CCFDC6,C6C,@FEGGFD,CFEFGC@EFDFD,<,,,,,;E,6C@CFGA,6C,8C:++C<FFC<@F99E@<@,,,@,C96,6696F<E@EF<EF+4,A@A,9=,4,+8+>:<F,??,:EB,@?+@4,CFG;F,=,,4,,,@E=4=,4\r\n",
      "gunzip: error writing to output: Broken pipe\r\n",
      "gunzip: reads/mutant1_OIST-2015-03-28.fq.gz: uncompress failed\r\n"
     ]
    }
   ],
   "source": [
    "!gunzip -c reads/mutant1_OIST-2015-03-28.fq.gz | head -8"
   ]
  },
  {
   "cell_type": "markdown",
   "metadata": {},
   "source": [
    "Each read in the fastq file format has four lines, one is a unique read name, one containing the sequence of bases, one `+`, and one containing quality scores. The quality scores correspond to the sequencer's confidence in making the base call.\n",
    "\n",
    "It is good practice to examine the quality of your data before you proceed with the analysis. We'll use a popular tools called [FastQC](http://www.bioinformatics.babraham.ac.uk/projects/fastqc/) to do some exploratory analysis."
   ]
  },
  {
   "cell_type": "code",
   "execution_count": 1,
   "metadata": {
    "collapsed": false
   },
   "outputs": [
    {
     "name": "stdout",
     "output_type": "stream",
     "text": [
      "Started analysis of mutant2_OIST-2015-03-28.fq.gz\n",
      "Approx 5% complete for mutant2_OIST-2015-03-28.fq.gz\n",
      "Approx 10% complete for mutant2_OIST-2015-03-28.fq.gz\n",
      "Approx 15% complete for mutant2_OIST-2015-03-28.fq.gz\n",
      "Approx 20% complete for mutant2_OIST-2015-03-28.fq.gz\n",
      "Approx 25% complete for mutant2_OIST-2015-03-28.fq.gz\n",
      "Approx 30% complete for mutant2_OIST-2015-03-28.fq.gz\n",
      "Approx 35% complete for mutant2_OIST-2015-03-28.fq.gz\n",
      "Approx 40% complete for mutant2_OIST-2015-03-28.fq.gz\n",
      "Approx 45% complete for mutant2_OIST-2015-03-28.fq.gz\n",
      "Approx 50% complete for mutant2_OIST-2015-03-28.fq.gz\n",
      "Approx 55% complete for mutant2_OIST-2015-03-28.fq.gz\n",
      "Approx 60% complete for mutant2_OIST-2015-03-28.fq.gz\n",
      "Approx 65% complete for mutant2_OIST-2015-03-28.fq.gz\n",
      "Approx 70% complete for mutant2_OIST-2015-03-28.fq.gz\n",
      "Approx 75% complete for mutant2_OIST-2015-03-28.fq.gz\n",
      "Approx 80% complete for mutant2_OIST-2015-03-28.fq.gz\n",
      "Approx 85% complete for mutant2_OIST-2015-03-28.fq.gz\n",
      "Approx 90% complete for mutant2_OIST-2015-03-28.fq.gz\n",
      "Approx 95% complete for mutant2_OIST-2015-03-28.fq.gz\n",
      "Analysis complete for mutant2_OIST-2015-03-28.fq.gz\n"
     ]
    }
   ],
   "source": [
    "!fastqc reads/mutant2_OIST-2015-03-28.fq.gz"
   ]
  },
  {
   "cell_type": "code",
   "execution_count": 4,
   "metadata": {
    "collapsed": false
   },
   "outputs": [
    {
     "data": {
      "text/html": [
       "\n",
       "        <iframe\n",
       "            width=\"1000\"\n",
       "            height=\"1000\"\n",
       "            src=\"reads/mutant1_OIST-2015-03-28_fastqc.html\"\n",
       "            frameborder=\"0\"\n",
       "            allowfullscreen\n",
       "        ></iframe>\n",
       "        "
      ],
      "text/plain": [
       "<IPython.lib.display.IFrame at 0x104816550>"
      ]
     },
     "execution_count": 4,
     "metadata": {},
     "output_type": "execute_result"
    }
   ],
   "source": [
    "from IPython.display import IFrame\n",
    "IFrame('reads/mutant1_OIST-2015-03-28_fastqc.html', width=1000, height=1000)"
   ]
  },
  {
   "cell_type": "markdown",
   "metadata": {},
   "source": [
    "We can explore the contents of read files programmatically using a library within Python called Biopython. This allows to automate many tedious tasks."
   ]
  },
  {
   "cell_type": "code",
   "execution_count": 5,
   "metadata": {
    "collapsed": false
   },
   "outputs": [
    {
     "name": "stdout",
     "output_type": "stream",
     "text": [
      "ID: M00923:134:000000000-A5ELA:1:2109:24002:5853\n",
      "Name: M00923:134:000000000-A5ELA:1:2109:24002:5853\n",
      "Description: M00923:134:000000000-A5ELA:1:2109:24002:5853\n",
      "Number of features: 0\n",
      "Per letter annotation for: phred_quality\n",
      "Seq('ATGCCTATATTGGTTAAAGTATTTAGTGACCTAAGTCAATAAAATTTTAATTTA...TGA', SingleLetterAlphabet())\n"
     ]
    }
   ],
   "source": [
    "import gzip\n",
    "from Bio import SeqIO\n",
    "with gzip.open(\"reads/mutant1_OIST-2015-03-28.fq.gz\", 'rt') as infile: # open and decompress input file\n",
    "    for rec in SeqIO.parse(infile, \"fastq\"):  # start looping over all records\n",
    "        print(rec)  #print record contents\n",
    "        break # stop looping, we only want to see one record"
   ]
  },
  {
   "cell_type": "markdown",
   "metadata": {},
   "source": [
    "You can see the methods associated with each *object*, suce as `rec` usig the *dir* command."
   ]
  },
  {
   "cell_type": "code",
   "execution_count": 6,
   "metadata": {
    "collapsed": false
   },
   "outputs": [
    {
     "name": "stdout",
     "output_type": "stream",
     "text": [
      "['__add__', '__bool__', '__class__', '__contains__', '__delattr__', '__dict__', '__dir__', '__doc__', '__eq__', '__format__', '__ge__', '__getattribute__', '__getitem__', '__gt__', '__hash__', '__init__', '__iter__', '__le__', '__le___', '__len__', '__lt__', '__module__', '__ne__', '__new__', '__nonzero__', '__radd__', '__reduce__', '__reduce_ex__', '__repr__', '__setattr__', '__sizeof__', '__str__', '__subclasshook__', '__weakref__', '_per_letter_annotations', '_seq', '_set_per_letter_annotations', '_set_seq', 'annotations', 'dbxrefs', 'description', 'features', 'format', 'id', 'letter_annotations', 'lower', 'name', 'reverse_complement', 'seq', 'upper']\n"
     ]
    }
   ],
   "source": [
    "print(dir(rec)) # print methods associaat"
   ]
  },
  {
   "cell_type": "markdown",
   "metadata": {},
   "source": [
    "For example, we can reverse complement the sequence:"
   ]
  },
  {
   "cell_type": "code",
   "execution_count": 7,
   "metadata": {
    "collapsed": false
   },
   "outputs": [
    {
     "data": {
      "text/plain": [
       "SeqRecord(seq=Seq('TCAGCTTTTCATTCTGACTGCAACGGGCAATATGTCTCTGTGTGGATTAAAAAA...CAT', SingleLetterAlphabet()), id='<unknown id>', name='<unknown name>', description='<unknown description>', dbxrefs=[])"
      ]
     },
     "execution_count": 7,
     "metadata": {},
     "output_type": "execute_result"
    }
   ],
   "source": [
    "rec.reverse_complement()"
   ]
  },
  {
   "cell_type": "markdown",
   "metadata": {},
   "source": [
    "There are lots of other interesting functions to explore!"
   ]
  },
  {
   "cell_type": "markdown",
   "metadata": {},
   "source": [
    "## Exercises and questions\n",
    "Exercises should be done in Python or bash.\n",
    "1. Write a for loop to run FastQC on all the samples, and examine their output.\n",
    "- If you look a the \"Per base sequence quality\" in FastQC, you'll see that the quality decreases. Why does that happen? \n",
    "- What does a score of 20 correspond to? (Hint: these are called phred scores)\n",
    "- Look at the quality scores associated with the first read in `reads/mutant1_OIST-2015-03-28.fq.g` named `M00923:134:000000000-A5ELA:1:2109:24002:5853`. What is the average error rate? How many errors can we expect per read?\n",
    "- Check out the \"Sequence Duplication Levels\" report. Why would there be duplicated sequences?"
   ]
  }
 ],
 "metadata": {
  "kernelspec": {
   "display_name": "Python 3",
   "language": "python",
   "name": "python3"
  },
  "language_info": {
   "codemirror_mode": {
    "name": "ipython",
    "version": 3
   },
   "file_extension": ".py",
   "mimetype": "text/x-python",
   "name": "python",
   "nbconvert_exporter": "python",
   "pygments_lexer": "ipython3",
   "version": "3.5.2"
  }
 },
 "nbformat": 4,
 "nbformat_minor": 0
}
