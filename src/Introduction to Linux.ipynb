{
 "cells": [
  {
   "cell_type": "markdown",
   "metadata": {
    "collapsed": true
   },
   "source": [
    "# Introduction to Linux\n",
    "\n",
    "Operating systems are suites of programs, which make the computer work. UNIX is one of the oldest, dating back from the 1960s. It has been under constant development, and is a stable, multi-user, multi-tasking system popular for running servers that are used in bioinformatic analysis. There are different flavors of UNIX, the most popular of which is Linux, which is free and open source.\n",
    "\n",
    "## Part of the Linux operating system\n",
    "\n",
    "Linux is made up of the kernel, the shell and programs. \n",
    "\n",
    "### Kernel\n",
    "\n",
    "The kernel is low-level code that makes everything happen. It controls file access, memory allocation, and all the other tasks the computer needs to do.\n",
    "\n",
    "The Linux kernel should not be confused with the Python (or R) kernels run in the Jupyter notebooks (see menu). These kernels also handle low-level functions, but specifically for the programming languages. They sit on top of the Linux kernel that works in the background.\n",
    "\n",
    "### Shell\n",
    "The shell interfaces between the user and the kernel. It interprets commands and carries them out. Most frequently you interact with the shell using a command line interface in a terminal. Python notebooks in Jupyter allow you to execute commands on the Linux shell directly. You simply preface a command with an exclamation point:"
   ]
  },
  {
   "cell_type": "code",
   "execution_count": 1,
   "metadata": {
    "collapsed": false
   },
   "outputs": [
    {
     "name": "stdout",
     "output_type": "stream",
     "text": [
      "Hello, World!\r\n"
     ]
    }
   ],
   "source": [
    "! echo Hello, World!"
   ]
  },
  {
   "cell_type": "markdown",
   "metadata": {},
   "source": [
    "This allows you to run system commands and incorporate them into your into your workflow.\n",
    "\n",
    "How you get to the shell depends a lot on your particular flavor of UNIX, but Jupyter will take care of all our shell needs for the purpose of this exercise.\n",
    "\n",
    "### Programs\n",
    "\n",
    "Most of the time you will be running some kind of program (such as Jupyter) to accomplish what you want. Linux typically comes with a rich suite of build-in programs, which allow you to perform many kinds of useful tasks, from file maniputaltion to list sorting. You can also install others, or write your own, depending on your needs.\n",
    "\n",
    "## Files and processes\n",
    "\n",
    "Everything in UNIX is either a file or a process. A process is a running program. It gets a unique ID, and the kernel tracks its state. A file is a collection of data that lives on the hard drive. Files are organized into directories (aks folders) in a hierarchical manner.\n",
    "\n"
   ]
  },
  {
   "cell_type": "code",
   "execution_count": 2,
   "metadata": {
    "collapsed": false
   },
   "outputs": [
    {
     "name": "stdout",
     "output_type": "stream",
     "text": [
      "..\r\n",
      "├── data\r\n",
      "│   └── reads\r\n",
      "│       ├── mutant1_OIST-2015-03-28.fq.gz\r\n",
      "│       ├── mutant2_OIST-2015-03-28.fq.gz\r\n",
      "│       ├── mutant3_OIST-2015-03-28.fq.gz\r\n",
      "│       ├── mutant4_OIST-2015-03-28.fq.gz\r\n",
      "│       └── reference_OIST-2015-03-28.fq.gz\r\n",
      "├── Dockerfile\r\n",
      "├── examples\r\n",
      "│   ├── deleteme.txt\r\n",
      "│   └── Sir Robin.txt\r\n",
      "├── index.ipynb\r\n",
      "├── LICENSE.txt\r\n",
      "├── README.md\r\n",
      "├── ref\r\n",
      "│   ├── NC_012967.fasta\r\n",
      "│   ├── NC_012967.fasta.fai\r\n",
      "│   └── NC_012967.gff\r\n",
      "└── src\r\n",
      "    ├── homework\r\n",
      "    │   └── Introduction to Linux homework.ipynb\r\n",
      "    ├── Introduction to Linux.ipynb\r\n",
      "    ├── Introduction to Python.ipynb\r\n",
      "    └── Raw data.ipynb\r\n",
      "\r\n",
      "6 directories, 18 files\r\n"
     ]
    }
   ],
   "source": [
    "! tree .."
   ]
  },
  {
   "cell_type": "markdown",
   "metadata": {},
   "source": [
    "The `tree` command gives us an overview of the underlying file structure, which is hierarchical in nature. In this case we execute it with the path pointing to `../`, which refers to one directory above the current one. We see that there are three folders in the project directory: `examples`, `data`, `ref` and `src`. Each of the directories have files, and `data` even has a sub-directory. The current notebook is called `Introduction to Python.ipynb` that resides in the `src` directory. Jupyter executes commands in the same folder where the notebook is, which is why we needed the '..' reference to point to the folder above for a general overview.\n",
    "\n",
    "Just in case your curious, here is what the other files are:\n",
    "- `Dockerfile` controls how the virtual machine is built. It contains all the instructions for configuring the kernel and programs we will use, as well as downloading the data\n",
    "- `index.ipynb` is the landing page, which gives the general overview\n",
    "- `LICENSE.txt` explains how all this code can be used\n",
    "- `README.md` is the file you used to launch the Brinder instance.\n",
    "\n",
    "## Interacting with files\n",
    "One of the principal tasks you will perform in the shell is manipulating files and directories. \n",
    "### Copying, renaming and moving files\n",
    "Files can be copied using the command `cp source destination`\n",
    "Let's give it a try. First, we'll examine the current directory using the `ls` command, which lists its contents"
   ]
  },
  {
   "cell_type": "code",
   "execution_count": 3,
   "metadata": {
    "collapsed": false
   },
   "outputs": [
    {
     "name": "stdout",
     "output_type": "stream",
     "text": [
      "homework\t\t     Introduction to Python.ipynb\r\n",
      "Introduction to Linux.ipynb  Raw data.ipynb\r\n"
     ]
    }
   ],
   "source": [
    "! ls"
   ]
  },
  {
   "cell_type": "markdown",
   "metadata": {},
   "source": [
    "Now we can copy a file here from the `examples` folder, and look again."
   ]
  },
  {
   "cell_type": "code",
   "execution_count": 4,
   "metadata": {
    "collapsed": false
   },
   "outputs": [
    {
     "name": "stdout",
     "output_type": "stream",
     "text": [
      "example.txt  Introduction to Linux.ipynb   Raw data.ipynb\r\n",
      "homework     Introduction to Python.ipynb\r\n"
     ]
    }
   ],
   "source": [
    "! cp ../examples/Sir\\ Robin.txt example.txt\n",
    "! ls"
   ]
  },
  {
   "cell_type": "markdown",
   "metadata": {},
   "source": [
    "We moved a file called `Sir Robin.txt` to the current folder and also renamed it `example.txt`. If we wanted to keep the same name we could have issued the command `cp ../examples/Sir\\ Robin.txt .` \n",
    "\n",
    "As you can guess `.` refers to the current directory, whereas `..` referred to the one above. This is an example of **relative file paths**, *i.e.*, paths that you can specify relative to other paths. There is actually an absolute file path for every file, which is its unique address on the hard drive, but relative paths allow you to address files in surrounding directories. Using relative paths you (a) save typing and (b) your code works even if you move your project directory elsewhere.\n",
    "\n",
    "Now, if the file is named `Sir Robin.txt`, why did we have to type `Sir\\ Robin.txt` into the command? The reason is that whitespace is used as the command separator in `cp` as in most Linux commands. It is also part of the file name. We can tell the shell to treat this space as part of the file name, by using the backslash, which is known as an **escape character**.\n",
    "\n",
    "You can move files using the `mv` command, in the same manner as copying them:"
   ]
  },
  {
   "cell_type": "code",
   "execution_count": 5,
   "metadata": {
    "collapsed": false
   },
   "outputs": [
    {
     "name": "stdout",
     "output_type": "stream",
     "text": [
      "example.txt.bak  Introduction to Linux.ipynb   Raw data.ipynb\r\n",
      "homework\t Introduction to Python.ipynb\r\n"
     ]
    }
   ],
   "source": [
    "! mv example.txt example.txt.bak\n",
    "!ls"
   ]
  },
  {
   "cell_type": "markdown",
   "metadata": {},
   "source": [
    "### Making directories, navigation and wildcards\n",
    "\n",
    "Directories are fundamental to organizing your work. You can create them using the `mkdir` command and go into it using `cd`, and copy some files here"
   ]
  },
  {
   "cell_type": "code",
   "execution_count": 6,
   "metadata": {
    "collapsed": false
   },
   "outputs": [
    {
     "name": "stdout",
     "output_type": "stream",
     "text": [
      "example.txt\n",
      "example.txt.bak\n"
     ]
    }
   ],
   "source": [
    "%%bash\n",
    "cp ../examples/Sir\\ Robin.txt example.txt\n",
    "mkdir myDir\n",
    "cd myDir\n",
    "cp ../example.* .\n",
    "ls"
   ]
  },
  {
   "cell_type": "markdown",
   "metadata": {},
   "source": [
    "This code snipped introduces a few new things. First, we see an IPython **magic**, a keyword that allows special commands. In this case `%%bash` executes the rest of the cell in the Linux shell, which is more convenient than typing `!` before every command, if there are many of them. Second, we see the appearance of a **wildcard** caracter `*`. Wildcards allow us to potentially specify multiple files at once. In this case we ask `cp` to copy everything starting with the word `example` into the current directory. Another useful wildcard is `?`, which matches any character."
   ]
  },
  {
   "cell_type": "code",
   "execution_count": 7,
   "metadata": {
    "collapsed": false
   },
   "outputs": [
    {
     "name": "stdout",
     "output_type": "stream",
     "text": [
      "example.txt  Example.txt\r\n"
     ]
    }
   ],
   "source": [
    "! cp example.txt Example.txt\n",
    "! ls ?xample.txt"
   ]
  },
  {
   "cell_type": "markdown",
   "metadata": {},
   "source": [
    "#### Notes\n",
    "- Linux filenames are case-sensitive.\n",
    "- IPython returns you to the directory where the notebook resides at the end of a shell command cell execution. So, if you have executed a command like `cd somedir` in a cell block, the next block will not be started in `somedir`.\n",
    "\n",
    "### Filename conventions\n",
    "You see that the filenames generally have the form `*.*`, with the *base name* before the dot and the *extension* after the dot. The extension specifies the file type. There are standard extensions, such as `txt`, which specifies text files. In bioinformatics many file types have standard extension types, which we'll deal with later.\n",
    "### Removing files and folders\n",
    "\n",
    "We can remove files and folders using the `rm` and `rmdir` commands, respectively. Only empty directories can be removed, so we need to delete their contents first."
   ]
  },
  {
   "cell_type": "code",
   "execution_count": 8,
   "metadata": {
    "collapsed": false
   },
   "outputs": [
    {
     "name": "stdout",
     "output_type": "stream",
     "text": [
      "example.txt\n",
      "Example.txt\n",
      "example.txt.bak\n",
      "homework\n",
      "Introduction to Linux.ipynb\n",
      "Introduction to Python.ipynb\n",
      "Raw data.ipynb\n"
     ]
    }
   ],
   "source": [
    "%%bash\n",
    "rm myDir/*\n",
    "rmdir myDir\n",
    "ls"
   ]
  },
  {
   "cell_type": "markdown",
   "metadata": {},
   "source": [
    "### Displaying file contents\n",
    "At this point you may be wondering what's inside some of these files. We can look at the contents of a text file using `cat`"
   ]
  },
  {
   "cell_type": "code",
   "execution_count": 9,
   "metadata": {
    "collapsed": false
   },
   "outputs": [
    {
     "name": "stdout",
     "output_type": "stream",
     "text": [
      "The Ballad of Brave Sir Robin\r\n",
      "\r\n",
      "Bravely bold Sir Robin rode forth from Camelot.\r\n",
      "He was not afraid to die, O brave Sir Robin!\r\n",
      "He was not at all afraid to be killed in nasty ways,\r\n",
      "Brave, brave, brave, brave Sir Robin!\r\n",
      "He was not in the least bit scared to be mashed into a pulp,\r\n",
      "Or to have his eyes gouged out, and his elbows broken;\r\n",
      "To have his kneecaps split, and his body burned away;\r\n",
      "And his limbs all hacked and mangled, brave Sir Robin!\r\n",
      "\r\n",
      "His head smashed in and his heart cut out\r\n",
      "And his liver removed and his bowels unplugged\r\n",
      "And his nostrils raped and his bottom burned off\r\n"
     ]
    }
   ],
   "source": [
    "!cat example.txt"
   ]
  },
  {
   "cell_type": "markdown",
   "metadata": {},
   "source": [
    "Often you will be dealing with large files, and you only want to diplay a small part of them, say the beginning or the end"
   ]
  },
  {
   "cell_type": "code",
   "execution_count": 10,
   "metadata": {
    "collapsed": false
   },
   "outputs": [
    {
     "name": "stdout",
     "output_type": "stream",
     "text": [
      "The Ballad of Brave Sir Robin\r\n",
      "\r\n",
      "Bravely bold Sir Robin rode forth from Camelot.\r\n",
      "He was not afraid to die, O brave Sir Robin!\r\n",
      "He was not at all afraid to be killed in nasty ways,\r\n"
     ]
    }
   ],
   "source": [
    "! head -5 example.txt"
   ]
  },
  {
   "cell_type": "code",
   "execution_count": 11,
   "metadata": {
    "collapsed": false
   },
   "outputs": [
    {
     "name": "stdout",
     "output_type": "stream",
     "text": [
      "And his limbs all hacked and mangled, brave Sir Robin!\r\n",
      "\r\n",
      "His head smashed in and his heart cut out\r\n",
      "And his liver removed and his bowels unplugged\r\n",
      "And his nostrils raped and his bottom burned off\r\n"
     ]
    }
   ],
   "source": [
    "! tail -5 example.txt"
   ]
  },
  {
   "cell_type": "markdown",
   "metadata": {},
   "source": [
    "### Searching file contents\n",
    "You can search the contents of files using the `grep` command, which prints lines matching a given query:"
   ]
  },
  {
   "cell_type": "code",
   "execution_count": 12,
   "metadata": {
    "collapsed": false
   },
   "outputs": [
    {
     "name": "stdout",
     "output_type": "stream",
     "text": [
      "The Ballad of Brave Sir Robin\r\n",
      "Bravely bold Sir Robin rode forth from Camelot.\r\n",
      "He was not afraid to die, O brave Sir Robin!\r\n",
      "Brave, brave, brave, brave Sir Robin!\r\n",
      "And his limbs all hacked and mangled, brave Sir Robin!\r\n"
     ]
    }
   ],
   "source": [
    "! grep Robin example.txt "
   ]
  },
  {
   "cell_type": "markdown",
   "metadata": {},
   "source": [
    "#### Useful grep switches\n",
    "The behavior of `grep`, like that of many programs can be changed by adding command line switches, such as these\n",
    "- -v display those lines that do NOT match \n",
    "- -n precede each matching line with the line number \n",
    "- -c print only the total count of matched lines "
   ]
  },
  {
   "cell_type": "markdown",
   "metadata": {},
   "source": [
    "! grep -c Robin example.txt "
   ]
  },
  {
   "cell_type": "markdown",
   "metadata": {},
   "source": [
    "### Redirection and pipes\n",
    "Linux allows you to redirect output from one command to another. The `>` character redirects output to a file, overwriting it if one already exists"
   ]
  },
  {
   "cell_type": "code",
   "execution_count": 13,
   "metadata": {
    "collapsed": false
   },
   "outputs": [
    {
     "name": "stdout",
     "output_type": "stream",
     "text": [
      "The Ballad of Brave Sir Robin\r\n",
      "\r\n",
      "Bravely bold Sir Robin rode forth from Camelot.\r\n",
      "He was not afraid to die, O brave Sir Robin!\r\n",
      "He was not at all afraid to be killed in nasty ways,\r\n"
     ]
    }
   ],
   "source": [
    "! head -5 example.txt > example2.txt\n",
    "! cat example2.txt"
   ]
  },
  {
   "cell_type": "markdown",
   "metadata": {},
   "source": [
    "You can append to a file using the `>>` characters"
   ]
  },
  {
   "cell_type": "code",
   "execution_count": 14,
   "metadata": {
    "collapsed": false
   },
   "outputs": [
    {
     "name": "stdout",
     "output_type": "stream",
     "text": [
      "The Ballad of Brave Sir Robin\r\n",
      "\r\n",
      "Bravely bold Sir Robin rode forth from Camelot.\r\n",
      "He was not afraid to die, O brave Sir Robin!\r\n",
      "He was not at all afraid to be killed in nasty ways,\r\n",
      "The Ballad of Brave Sir Robin\r\n",
      "\r\n",
      "Bravely bold Sir Robin rode forth from Camelot.\r\n",
      "He was not afraid to die, O brave Sir Robin!\r\n",
      "He was not at all afraid to be killed in nasty ways,\r\n"
     ]
    }
   ],
   "source": [
    "! head -5 example.txt >> example2.txt\n",
    "! cat example2.txt"
   ]
  },
  {
   "cell_type": "markdown",
   "metadata": {},
   "source": [
    "Many commands can be linked together by the **pipe**, represented by `|` processing the output that would usually be printed to screen (otherwise known as **standard output**)."
   ]
  },
  {
   "cell_type": "code",
   "execution_count": 15,
   "metadata": {
    "collapsed": false
   },
   "outputs": [
    {
     "name": "stdout",
     "output_type": "stream",
     "text": [
      "And his limbs all hacked and mangled, brave Sir Robin!\r\n",
      "Brave, brave, brave, brave Sir Robin!\r\n",
      "Bravely bold Sir Robin rode forth from Camelot.\r\n",
      "He was not afraid to die, O brave Sir Robin!\r\n",
      "The Ballad of Brave Sir Robin\r\n"
     ]
    }
   ],
   "source": [
    "! grep Robin example.txt | sort"
   ]
  },
  {
   "cell_type": "markdown",
   "metadata": {},
   "source": [
    "In this example, we take the output of `grep` and pass it to the `sort` program, which then sorts them in alphabetical order.\n",
    "\n",
    "## [Homework](homework/Introduction to Linux homework.ipynb)\n",
    "Follow the link to the exercise worksbook\n",
    "\n",
    "## Done?\n",
    "Continue on to [Introduction to Python](Introduction to Python.ipynb)\n",
    "\n",
    "## References\n",
    "- [UNIX Tutorial for Beginners](http://www.ee.surrey.ac.uk/Teaching/Unix/)"
   ]
  }
 ],
 "metadata": {
  "kernelspec": {
   "display_name": "Python 3",
   "language": "python",
   "name": "python3"
  },
  "language_info": {
   "codemirror_mode": {
    "name": "ipython",
    "version": 3
   },
   "file_extension": ".py",
   "mimetype": "text/x-python",
   "name": "python",
   "nbconvert_exporter": "python",
   "pygments_lexer": "ipython3",
   "version": "3.5.2"
  }
 },
 "nbformat": 4,
 "nbformat_minor": 0
}
