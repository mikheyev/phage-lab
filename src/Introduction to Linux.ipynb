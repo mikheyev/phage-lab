{
 "cells": [
  {
   "cell_type": "markdown",
   "metadata": {
    "collapsed": true
   },
   "source": [
    "# Introduction to Linux\n",
    "\n",
    "Operating systems are suites of programs, which make the computer work. UNIX is one of the oldest, dating back from the 1960s. It has been under constant development, and is a stable, multi-user, multi-tasking system popular for running servers that are used in bioinformatic analysis. There are different flavors of UNIX, the most popular of which is Linux, which is free and open source.\n",
    "\n",
    "## Part of the Linux operating system\n",
    "\n",
    "Linux is made up of the kernel, the shell and programs. \n",
    "\n",
    "### Kernel\n",
    "\n",
    "The kernel is low-level code that makes everything happen. It controls file access, memory allocation, and all the other tasks the computer needs to do.\n",
    "\n",
    "The Linux kernel should not be confused with the Python (or R) kernels run in the Jupyter notebooks (see menu). These kernels also handle low-level functions, but specifically for the programming languages. They sit on top of the Linux kernel that works in the background.\n",
    "\n",
    "### Shell\n",
    "The shell interfaces between the user and the kernel. It interprets commands and carries them out. Most frequently you interact with the shell using a command line interface in a terminal. Python notebooks in Jupyter allow you to execute commands on the Linux shell directly. You simply preface a command with an exclamation point:"
   ]
  },
  {
   "cell_type": "code",
   "execution_count": 1,
   "metadata": {
    "collapsed": false
   },
   "outputs": [
    {
     "name": "stdout",
     "output_type": "stream",
     "text": [
      "Hello, World!\r\n"
     ]
    }
   ],
   "source": [
    "! echo Hello, World!"
   ]
  },
  {
   "cell_type": "markdown",
   "metadata": {},
   "source": [
    "This allows you to run system commands and incorporate them into your into your workflow.\n",
    "\n",
    "How you get to the shell depends a lot on your particular flavor of UNIX, but Jupyter will take care of all our shell needs for the purpose of this exercise.\n",
    "\n",
    "### Programs\n",
    "\n",
    "Most of the time you will be running some kind of program (such as Jupyter) to accomplish what you want. Linux typically comes with a rich suite of build-in programs, which allow you to perform many kinds of useful tasks, from file maniputaltion to list sorting. You can also install others, or write your own, depending on your needs.\n",
    "\n",
    "## Files and processes\n",
    "\n",
    "Everything in UNIX is either a file or a process. A process is a running program. It gets a unique ID, and the kernel tracks its state. A file is a collection of data that lives on the hard drive. Files are organized into directories (aks folders) in a hierarchical manner.\n",
    "\n"
   ]
  },
  {
   "cell_type": "code",
   "execution_count": 15,
   "metadata": {
    "collapsed": false
   },
   "outputs": [
    {
     "name": "stdout",
     "output_type": "stream",
     "text": [
      "..\r\n",
      "├── data\r\n",
      "│   └── reads\r\n",
      "│       ├── mutant1_OIST-2015-03-28.fq.gz\r\n",
      "│       ├── mutant2_OIST-2015-03-28.fq.gz\r\n",
      "│       ├── mutant3_OIST-2015-03-28.fq.gz\r\n",
      "│       ├── mutant4_OIST-2015-03-28.fq.gz\r\n",
      "│       └── reference_OIST-2015-03-28.fq.gz\r\n",
      "├── Dockerfile\r\n",
      "├── examples\r\n",
      "│   └── Sir Robin.txt\r\n",
      "├── index.ipynb\r\n",
      "├── LICENSE.txt\r\n",
      "├── README.md\r\n",
      "├── ref\r\n",
      "│   ├── NC_012967.fasta\r\n",
      "│   ├── NC_012967.fasta.fai\r\n",
      "│   └── NC_012967.gff\r\n",
      "└── src\r\n",
      "    ├── example.txt\r\n",
      "    ├── Introduction to Linux.ipynb\r\n",
      "    ├── Introduction to Python.ipynb\r\n",
      "    └── Raw data.ipynb\r\n",
      "\r\n",
      "5 directories, 17 files\r\n"
     ]
    }
   ],
   "source": [
    "! tree .."
   ]
  },
  {
   "cell_type": "markdown",
   "metadata": {},
   "source": [
    "The `tree` command gives us an overview of the underlying file structure, which is hierarchical in nature. In this case we execute it with the path pointing to `../`, which refers to one directory above the current one. We see that there are three folders in the project directory: `examples`, `data`, `ref` and `src`. Each of the directories have files, and `data` even has a sub-directory. The current notebook is called `Introduction to Python.ipynb` that resides in the `src` directory. Jupyter executes commands in the same folder where the notebook is, which is why we needed the '..' reference to point to the folder above for a general overview.\n",
    "\n",
    "Just in case your curious, here is what the other files are:\n",
    "- `Dockerfile` controls how the virtual machine is built. It contains all the instructions for configuring the kernel and programs we will use, as well as downloading the data\n",
    "- `index.ipynb` is the landing page, which gives the general overview\n",
    "- `LICENSE.txt` explains how all this code can be used\n",
    "- `README.md` is the file you used to launch the Brinder instance.\n",
    "\n",
    "## Interacting with files\n",
    "One of the principal tasks you will perform in the shell is manipulating files and directories. \n",
    "### Copying, renaming and moving files\n",
    "Files can be copied using the command `cp source destination`\n",
    "Let's give it a try. First, we'll examine the current directory using the `ls` command, which lists its contents"
   ]
  },
  {
   "cell_type": "code",
   "execution_count": 11,
   "metadata": {
    "collapsed": false
   },
   "outputs": [
    {
     "name": "stdout",
     "output_type": "stream",
     "text": [
      "Introduction to Linux.ipynb  Introduction to Python.ipynb  Raw data.ipynb\r\n"
     ]
    }
   ],
   "source": [
    "! ls"
   ]
  },
  {
   "cell_type": "markdown",
   "metadata": {},
   "source": [
    "Now we can copy a file here from the `examples` folder, and look again."
   ]
  },
  {
   "cell_type": "code",
   "execution_count": 14,
   "metadata": {
    "collapsed": false
   },
   "outputs": [
    {
     "name": "stdout",
     "output_type": "stream",
     "text": [
      "example.txt\t\t     Introduction to Python.ipynb\r\n",
      "Introduction to Linux.ipynb  Raw data.ipynb\r\n"
     ]
    }
   ],
   "source": [
    "! cp ../examples/Sir\\ Robin.txt example.txt\n",
    "! ls"
   ]
  },
  {
   "cell_type": "markdown",
   "metadata": {},
   "source": [
    "We moved a file called `Sir Robin.txt` to the current folder and also renamed it `example.txt`. If we wanted to keep the same name we could have issued the command `cp ../examples/Sir\\ Robin.txt .` \n",
    "\n",
    "As you can guess `.` refers to the current directory, whereas `..` referred to the one above. This is an example of **relative file paths**, *i.e.*, paths that you can specify relative to other paths. There is actually an absolute file path for every file, which is its unique address on the hard drive, but relative paths allow you to address files in surrounding directories. Using relative paths you (a) save typing and (b) your code works even if you move your project directory elsewhere.\n",
    "\n",
    "Now, if the file is named `Sir Robin.txt`, why did we have to type `Sir\\ Robin.txt` into the command? The reason is that whitespace is used as the command separator in `cp` as in most Linux commands. It is also part of the file name. We can tell the shell to treat this space as part of the file name, by using the backslash, which is known as an **escape character**.\n",
    "\n",
    "You can move files using the `mv` command, in the same manner as copying them:"
   ]
  },
  {
   "cell_type": "code",
   "execution_count": 16,
   "metadata": {
    "collapsed": false
   },
   "outputs": [
    {
     "name": "stdout",
     "output_type": "stream",
     "text": [
      "example.txt.bak\t\t     Introduction to Python.ipynb\r\n",
      "Introduction to Linux.ipynb  Raw data.ipynb\r\n"
     ]
    }
   ],
   "source": [
    "! mv example.txt example.txt.bak\n",
    "!ls"
   ]
  },
  {
   "cell_type": "markdown",
   "metadata": {},
   "source": [
    "### Making directories and navigation\n",
    "\n",
    "Directories are fundamental to organizing your work. You can create them using the `mkdir` command and go "
   ]
  },
  {
   "cell_type": "code",
   "execution_count": null,
   "metadata": {
    "collapsed": true
   },
   "outputs": [],
   "source": [
    "mkdir myDir"
   ]
  },
  {
   "cell_type": "markdown",
   "metadata": {},
   "source": [
    "\n",
    "\n",
    "### Removing files and folders"
   ]
  },
  {
   "cell_type": "markdown",
   "metadata": {},
   "source": [
    "## References\n",
    "- [UNIX Tutorial for Beginners](http://www.ee.surrey.ac.uk/Teaching/Unix/)"
   ]
  },
  {
   "cell_type": "code",
   "execution_count": null,
   "metadata": {
    "collapsed": true
   },
   "outputs": [],
   "source": []
  }
 ],
 "metadata": {
  "kernelspec": {
   "display_name": "Python 3",
   "language": "python",
   "name": "python3"
  },
  "language_info": {
   "codemirror_mode": {
    "name": "ipython",
    "version": 3
   },
   "file_extension": ".py",
   "mimetype": "text/x-python",
   "name": "python",
   "nbconvert_exporter": "python",
   "pygments_lexer": "ipython3",
   "version": "3.5.2"
  }
 },
 "nbformat": 4,
 "nbformat_minor": 0
}
